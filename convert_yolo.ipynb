{
 "cells": [
  {
   "cell_type": "code",
   "execution_count": 4,
   "id": "sitting-biotechnology",
   "metadata": {},
   "outputs": [],
   "source": [
    "import os\n",
    "import numpy as np # linear algebra\n",
    "import pandas as pd # data processing, CSV file I/O (e.g. pd.read_csv)\n",
    "import cv2\n",
    "import torch\n",
    "import matplotlib.pyplot as plt\n",
    "import torchvision\n",
    "from torchvision.models.detection import FasterRCNN\n",
    "from torchvision.models.detection.faster_rcnn import FastRCNNPredictor\n",
    "from torchvision.models.detection.rpn import AnchorGenerator\n",
    "from torch.utils.data import DataLoader\n",
    "from albumentations.pytorch.transforms import ToTensorV2\n",
    "from tqdm.notebook import tqdm\n",
    "import albumentations as A\n",
    "\n",
    "# from ipywidgets import IntProgress\n",
    "import multiprocessing\n",
    "device = 'cuda' if torch.cuda.is_available() else 'cpu'\n",
    "device\n",
    "import seaborn as sns\n",
    "\n",
    "from torchvision.ops import batched_nms\n",
    "import mmcv\n",
    "\n",
    "from ensemble_boxes import *\n",
    "\n",
    "from matplotlib.pyplot import imshow\n",
    "from PIL import Image\n",
    "\n",
    "from torchvision.ops import box_iou"
   ]
  },
  {
   "cell_type": "code",
   "execution_count": 5,
   "id": "combined-boost",
   "metadata": {},
   "outputs": [],
   "source": [
    "def plot_image(img_path, boxes, labels):\n",
    "    \n",
    "    image = cv2.imread(img_path)\n",
    "    image = cv2.cvtColor(image, cv2.COLOR_BGR2RGB)\n",
    "    image = image / 255\n",
    "    image = image.astype('float32')\n",
    "    \n",
    "    categories = [\n",
    "        { 'id':0, 'name': 'Aortic enlargement'},\n",
    "        { 'id':1, 'name': 'Atelectasis'},\n",
    "        { 'id':2, 'name': 'Calcification'},\n",
    "        { 'id':3, 'name': 'Cardiomegaly'},\n",
    "        { 'id':4, 'name': 'Consolidation'},\n",
    "        { 'id':5, 'name': 'ILD'},\n",
    "        { 'id':6, 'name': 'Infiltration'},\n",
    "        { 'id':7, 'name': 'Lung Opacity'},\n",
    "        { 'id':8, 'name': 'Nodule/Mass'},\n",
    "        { 'id':9, 'name': 'Other lesion'},\n",
    "        { 'id':10, 'name': 'Pleural effusion'},\n",
    "        { 'id':11, 'name': 'Pleural thickening'},\n",
    "        { 'id':12, 'name': 'Pneumothorax'},\n",
    "        { 'id':13, 'name': 'Pulmonary fibrosis'},\n",
    "        { 'id':14, 'name': 'No finding'},\n",
    "    ] \n",
    "    \n",
    "    plt.figure(figsize=(10,10))\n",
    "    \n",
    "    for box,label in zip(boxes, labels):\n",
    "        cv2.rectangle(image, (box[0], box[1]), (box[2], box[3]), (225,0,0), 4)\n",
    "        label = categories[label]['name'].upper()\n",
    "#         print(label)\n",
    "        cv2.putText(image, \n",
    "                    label,\n",
    "                    (box[0], box[1]), \n",
    "                    fontFace = cv2.FONT_HERSHEY_COMPLEX, \n",
    "                    fontScale = 1,\n",
    "                    color = (255, 0, 0),\n",
    "                    thickness = 2,\n",
    "                    lineType = cv2.LINE_AA\n",
    "                   )\n",
    "    plt.imshow(image)"
   ]
  },
  {
   "cell_type": "code",
   "execution_count": 31,
   "id": "pursuant-racing",
   "metadata": {},
   "outputs": [
    {
     "data": {
      "text/html": [
       "<div>\n",
       "<style scoped>\n",
       "    .dataframe tbody tr th:only-of-type {\n",
       "        vertical-align: middle;\n",
       "    }\n",
       "\n",
       "    .dataframe tbody tr th {\n",
       "        vertical-align: top;\n",
       "    }\n",
       "\n",
       "    .dataframe thead th {\n",
       "        text-align: right;\n",
       "    }\n",
       "</style>\n",
       "<table border=\"1\" class=\"dataframe\">\n",
       "  <thead>\n",
       "    <tr style=\"text-align: right;\">\n",
       "      <th></th>\n",
       "      <th>image_id</th>\n",
       "      <th>class_id</th>\n",
       "      <th>x_min</th>\n",
       "      <th>y_min</th>\n",
       "      <th>x_max</th>\n",
       "      <th>y_max</th>\n",
       "      <th>width</th>\n",
       "      <th>height</th>\n",
       "      <th>fold_id</th>\n",
       "    </tr>\n",
       "  </thead>\n",
       "  <tbody>\n",
       "    <tr>\n",
       "      <th>0</th>\n",
       "      <td>0005e8e3701dfb1dd93d53e2ff537b6e</td>\n",
       "      <td>8</td>\n",
       "      <td>932</td>\n",
       "      <td>567</td>\n",
       "      <td>1197</td>\n",
       "      <td>896</td>\n",
       "      <td>3072</td>\n",
       "      <td>3072</td>\n",
       "      <td>2</td>\n",
       "    </tr>\n",
       "    <tr>\n",
       "      <th>1</th>\n",
       "      <td>0005e8e3701dfb1dd93d53e2ff537b6e</td>\n",
       "      <td>4</td>\n",
       "      <td>932</td>\n",
       "      <td>567</td>\n",
       "      <td>1197</td>\n",
       "      <td>896</td>\n",
       "      <td>3072</td>\n",
       "      <td>3072</td>\n",
       "      <td>2</td>\n",
       "    </tr>\n",
       "    <tr>\n",
       "      <th>2</th>\n",
       "      <td>0005e8e3701dfb1dd93d53e2ff537b6e</td>\n",
       "      <td>7</td>\n",
       "      <td>900</td>\n",
       "      <td>587</td>\n",
       "      <td>1205</td>\n",
       "      <td>888</td>\n",
       "      <td>3072</td>\n",
       "      <td>3072</td>\n",
       "      <td>2</td>\n",
       "    </tr>\n",
       "    <tr>\n",
       "      <th>3</th>\n",
       "      <td>0005e8e3701dfb1dd93d53e2ff537b6e</td>\n",
       "      <td>6</td>\n",
       "      <td>900</td>\n",
       "      <td>587</td>\n",
       "      <td>1205</td>\n",
       "      <td>888</td>\n",
       "      <td>3072</td>\n",
       "      <td>3072</td>\n",
       "      <td>2</td>\n",
       "    </tr>\n",
       "    <tr>\n",
       "      <th>4</th>\n",
       "      <td>0007d316f756b3fa0baea2ff514ce945</td>\n",
       "      <td>5</td>\n",
       "      <td>1847</td>\n",
       "      <td>1409</td>\n",
       "      <td>2093</td>\n",
       "      <td>2096</td>\n",
       "      <td>2304</td>\n",
       "      <td>2880</td>\n",
       "      <td>2</td>\n",
       "    </tr>\n",
       "    <tr>\n",
       "      <th>...</th>\n",
       "      <td>...</td>\n",
       "      <td>...</td>\n",
       "      <td>...</td>\n",
       "      <td>...</td>\n",
       "      <td>...</td>\n",
       "      <td>...</td>\n",
       "      <td>...</td>\n",
       "      <td>...</td>\n",
       "      <td>...</td>\n",
       "    </tr>\n",
       "    <tr>\n",
       "      <th>22337</th>\n",
       "      <td>ffceb71a80efba3b83c88e11f4b9694b</td>\n",
       "      <td>13</td>\n",
       "      <td>1429</td>\n",
       "      <td>1152</td>\n",
       "      <td>1915</td>\n",
       "      <td>1280</td>\n",
       "      <td>2109</td>\n",
       "      <td>2344</td>\n",
       "      <td>3</td>\n",
       "    </tr>\n",
       "    <tr>\n",
       "      <th>22338</th>\n",
       "      <td>ffe6f9fe648a7ec29a50feb92d6c15a4</td>\n",
       "      <td>9</td>\n",
       "      <td>563</td>\n",
       "      <td>1148</td>\n",
       "      <td>593</td>\n",
       "      <td>1185</td>\n",
       "      <td>2685</td>\n",
       "      <td>2857</td>\n",
       "      <td>1</td>\n",
       "    </tr>\n",
       "    <tr>\n",
       "      <th>22339</th>\n",
       "      <td>ffe6f9fe648a7ec29a50feb92d6c15a4</td>\n",
       "      <td>0</td>\n",
       "      <td>1445</td>\n",
       "      <td>1038</td>\n",
       "      <td>1756</td>\n",
       "      <td>1342</td>\n",
       "      <td>2685</td>\n",
       "      <td>2857</td>\n",
       "      <td>1</td>\n",
       "    </tr>\n",
       "    <tr>\n",
       "      <th>22340</th>\n",
       "      <td>ffe6f9fe648a7ec29a50feb92d6c15a4</td>\n",
       "      <td>3</td>\n",
       "      <td>1144</td>\n",
       "      <td>1832</td>\n",
       "      <td>2302</td>\n",
       "      <td>2359</td>\n",
       "      <td>2685</td>\n",
       "      <td>2857</td>\n",
       "      <td>1</td>\n",
       "    </tr>\n",
       "    <tr>\n",
       "      <th>22341</th>\n",
       "      <td>ffeffc54594debf3716d6fcd2402a99f</td>\n",
       "      <td>0</td>\n",
       "      <td>1254</td>\n",
       "      <td>756</td>\n",
       "      <td>1567</td>\n",
       "      <td>1155</td>\n",
       "      <td>2464</td>\n",
       "      <td>2944</td>\n",
       "      <td>1</td>\n",
       "    </tr>\n",
       "  </tbody>\n",
       "</table>\n",
       "<p>22342 rows × 9 columns</p>\n",
       "</div>"
      ],
      "text/plain": [
       "                               image_id  class_id  x_min  y_min  x_max  y_max  \\\n",
       "0      0005e8e3701dfb1dd93d53e2ff537b6e         8    932    567   1197    896   \n",
       "1      0005e8e3701dfb1dd93d53e2ff537b6e         4    932    567   1197    896   \n",
       "2      0005e8e3701dfb1dd93d53e2ff537b6e         7    900    587   1205    888   \n",
       "3      0005e8e3701dfb1dd93d53e2ff537b6e         6    900    587   1205    888   \n",
       "4      0007d316f756b3fa0baea2ff514ce945         5   1847   1409   2093   2096   \n",
       "...                                 ...       ...    ...    ...    ...    ...   \n",
       "22337  ffceb71a80efba3b83c88e11f4b9694b        13   1429   1152   1915   1280   \n",
       "22338  ffe6f9fe648a7ec29a50feb92d6c15a4         9    563   1148    593   1185   \n",
       "22339  ffe6f9fe648a7ec29a50feb92d6c15a4         0   1445   1038   1756   1342   \n",
       "22340  ffe6f9fe648a7ec29a50feb92d6c15a4         3   1144   1832   2302   2359   \n",
       "22341  ffeffc54594debf3716d6fcd2402a99f         0   1254    756   1567   1155   \n",
       "\n",
       "       width  height  fold_id  \n",
       "0       3072    3072        2  \n",
       "1       3072    3072        2  \n",
       "2       3072    3072        2  \n",
       "3       3072    3072        2  \n",
       "4       2304    2880        2  \n",
       "...      ...     ...      ...  \n",
       "22337   2109    2344        3  \n",
       "22338   2685    2857        1  \n",
       "22339   2685    2857        1  \n",
       "22340   2685    2857        1  \n",
       "22341   2464    2944        1  \n",
       "\n",
       "[22342 rows x 9 columns]"
      ]
     },
     "execution_count": 31,
     "metadata": {},
     "output_type": "execute_result"
    }
   ],
   "source": [
    "df = pd.read_csv('5_fold_dedub.csv')\n",
    "meta = pd.read_csv('train_meta.csv').set_index('image_id')\n",
    "\n",
    "\n",
    "# fold_id = 2\n",
    "\n",
    "\n",
    "# train_df = df[df.fold_id != fold_id].groupby('image_id').agg(lambda x: list(x)).reset_index()\n",
    "# valid_df = df[df.fold_id == fold_id].groupby('image_id').agg(lambda x: list(x)).reset_index()\n",
    "full_df = df.groupby('image_id').agg(lambda x: list(x)).reset_index()\n",
    "\n",
    "# ax = sns.countplot(x=\"class_id\",data=df)\n",
    "df"
   ]
  },
  {
   "cell_type": "code",
   "execution_count": 29,
   "id": "medical-blast",
   "metadata": {},
   "outputs": [],
   "source": [
    "def generate_label_txt(df, output_dir):\n",
    "\n",
    "    n = len(df)\n",
    "\n",
    "    images = []\n",
    "    \n",
    "#     normal_n = len(normal)\n",
    "    \n",
    "    for idx in tqdm(range(n)):\n",
    "\n",
    "        records = df.loc[idx]\n",
    "        image_id = records['image_id']\n",
    "        \n",
    "        width = meta.loc[image_id]['dim1'] \n",
    "        height = meta.loc[image_id]['dim0']\n",
    "    \n",
    "        images.append(dict(\n",
    "            id=idx,\n",
    "            file_name=image_id + '.jpg',\n",
    "            height=height,\n",
    "            width=width))\n",
    " \n",
    "        boxes = records[['x_min','y_min', 'x_max', 'y_max']].to_numpy()\n",
    "        boxes = np.array(boxes.tolist()).T\n",
    "        boxes = boxes.astype(int)\n",
    "        labels = records['class_id']\n",
    "            \n",
    "        with open(output_dir + image_id + '.txt', 'w') as f:\n",
    "            \n",
    "            for i in range(len(boxes)):\n",
    "\n",
    "                label = labels[i]\n",
    "                bbox = boxes[i]\n",
    "                \n",
    "                c_x = (bbox[2] + bbox[0]) // 2\n",
    "                c_y = (bbox[3] + bbox[1]) // 2\n",
    "                w = (bbox[2] - bbox[0])\n",
    "                h = (bbox[3] - bbox[1])\n",
    "                \n",
    "                c_x = round(c_x / width, 4)\n",
    "                c_y = round(c_y / height, 4)\n",
    "                w = round(w / width, 4)\n",
    "                h = round(h / height, 4)\n",
    "\n",
    "                s = f'{label} {c_x} {c_y} {w} {h} \\n'\n",
    "                \n",
    "                f.write(s)\n",
    "    \n",
    "#     for i in range(normal_n):\n",
    "#         image_id = normal.iloc[i]['image_id']\n",
    "#         open(output_dir + image_id + '.txt', 'a').close()\n",
    "    "
   ]
  },
  {
   "cell_type": "code",
   "execution_count": 30,
   "id": "considerable-coordinate",
   "metadata": {},
   "outputs": [
    {
     "data": {
      "application/vnd.jupyter.widget-view+json": {
       "model_id": "4dc276fca11d44d9915279d7e0a5ef0e",
       "version_major": 2,
       "version_minor": 0
      },
      "text/plain": [
       "  0%|          | 0/4394 [00:00<?, ?it/s]"
      ]
     },
     "metadata": {},
     "output_type": "display_data"
    }
   ],
   "source": [
    "generate_label_txt(full_df, 'vinbigdata/labels/train/')"
   ]
  },
  {
   "cell_type": "code",
   "execution_count": 34,
   "id": "passive-subsection",
   "metadata": {},
   "outputs": [],
   "source": [
    "def generate_image_txt(df, images_path, output_file, add_empty=False):\n",
    "\n",
    "    n = len(df)\n",
    "    \n",
    "    healthy = normal.sample(frac=.1)\n",
    "    normal_n = len(healthy)\n",
    "    \n",
    "    with open(output_file, 'w') as f:\n",
    "    \n",
    "        for idx in tqdm(range(n)):\n",
    "\n",
    "            records = df.loc[idx]\n",
    "            image_id = records['image_id']\n",
    "            \n",
    "            s = images_path + image_id + '.jpg\\n'  \n",
    "            \n",
    "            f.write(s)\n",
    "            \n",
    "        if add_empty:\n",
    "\n",
    "            for i in range(normal_n):\n",
    "\n",
    "                healthy_image_id = healthy.iloc[i]['image_id']\n",
    "\n",
    "                s = images_path + healthy_image_id + '.jpg\\n'  \n",
    "\n",
    "                f.write(s)\n"
   ]
  },
  {
   "cell_type": "code",
   "execution_count": 35,
   "id": "reflected-realtor",
   "metadata": {},
   "outputs": [
    {
     "data": {
      "application/vnd.jupyter.widget-view+json": {
       "model_id": "2dad5a67365a42d9bb253d407a201aa3",
       "version_major": 2,
       "version_minor": 0
      },
      "text/plain": [
       "  0%|          | 0/3501 [00:00<?, ?it/s]"
      ]
     },
     "metadata": {},
     "output_type": "display_data"
    },
    {
     "data": {
      "application/vnd.jupyter.widget-view+json": {
       "model_id": "8e8a6ea7eff0429d8dfcbc4a646b019c",
       "version_major": 2,
       "version_minor": 0
      },
      "text/plain": [
       "  0%|          | 0/893 [00:00<?, ?it/s]"
      ]
     },
     "metadata": {},
     "output_type": "display_data"
    },
    {
     "data": {
      "application/vnd.jupyter.widget-view+json": {
       "model_id": "742c676c9c7c492eb4bc9917d2b1b87d",
       "version_major": 2,
       "version_minor": 0
      },
      "text/plain": [
       "  0%|          | 0/3518 [00:00<?, ?it/s]"
      ]
     },
     "metadata": {},
     "output_type": "display_data"
    },
    {
     "data": {
      "application/vnd.jupyter.widget-view+json": {
       "model_id": "aa71fe3844884160b0254984e03bf67a",
       "version_major": 2,
       "version_minor": 0
      },
      "text/plain": [
       "  0%|          | 0/876 [00:00<?, ?it/s]"
      ]
     },
     "metadata": {},
     "output_type": "display_data"
    },
    {
     "data": {
      "application/vnd.jupyter.widget-view+json": {
       "model_id": "fef5ac0b5c4f418ebd29c6fb4feb5258",
       "version_major": 2,
       "version_minor": 0
      },
      "text/plain": [
       "  0%|          | 0/3535 [00:00<?, ?it/s]"
      ]
     },
     "metadata": {},
     "output_type": "display_data"
    },
    {
     "data": {
      "application/vnd.jupyter.widget-view+json": {
       "model_id": "fd5501ea5be64c15be1196d7186e7750",
       "version_major": 2,
       "version_minor": 0
      },
      "text/plain": [
       "  0%|          | 0/859 [00:00<?, ?it/s]"
      ]
     },
     "metadata": {},
     "output_type": "display_data"
    },
    {
     "data": {
      "application/vnd.jupyter.widget-view+json": {
       "model_id": "bb7cc28bf28a42ca881d35d0d74ce098",
       "version_major": 2,
       "version_minor": 0
      },
      "text/plain": [
       "  0%|          | 0/3506 [00:00<?, ?it/s]"
      ]
     },
     "metadata": {},
     "output_type": "display_data"
    },
    {
     "data": {
      "application/vnd.jupyter.widget-view+json": {
       "model_id": "a79b597ffe01441590e3fa727c291adc",
       "version_major": 2,
       "version_minor": 0
      },
      "text/plain": [
       "  0%|          | 0/888 [00:00<?, ?it/s]"
      ]
     },
     "metadata": {},
     "output_type": "display_data"
    },
    {
     "data": {
      "application/vnd.jupyter.widget-view+json": {
       "model_id": "c3e1706b543f43f09315cfa39fab955e",
       "version_major": 2,
       "version_minor": 0
      },
      "text/plain": [
       "  0%|          | 0/3516 [00:00<?, ?it/s]"
      ]
     },
     "metadata": {},
     "output_type": "display_data"
    },
    {
     "data": {
      "application/vnd.jupyter.widget-view+json": {
       "model_id": "97b9f0a334d9456a8988d64d4f6bd64f",
       "version_major": 2,
       "version_minor": 0
      },
      "text/plain": [
       "  0%|          | 0/878 [00:00<?, ?it/s]"
      ]
     },
     "metadata": {},
     "output_type": "display_data"
    }
   ],
   "source": [
    "for fold_id in range(5):\n",
    "    \n",
    "    train_df = df[df.fold_id != fold_id].groupby('image_id').agg(lambda x: list(x)).reset_index()\n",
    "    valid_df = df[df.fold_id == fold_id].groupby('image_id').agg(lambda x: list(x)).reset_index()\n",
    "\n",
    "    generate_image_txt(train_df, '../vinbigdata/images/train/', f'yolov5/folds/fold_{fold_id}_train.txt')\n",
    "    generate_image_txt(valid_df, '../vinbigdata/images/train/', f'yolov5/folds/fold_{fold_id}_val.txt')"
   ]
  },
  {
   "cell_type": "code",
   "execution_count": 11,
   "id": "interracial-savings",
   "metadata": {},
   "outputs": [
    {
     "data": {
      "application/vnd.jupyter.widget-view+json": {
       "model_id": "de89fc3965914e27b3a66ccf89c8bbd3",
       "version_major": 2,
       "version_minor": 0
      },
      "text/plain": [
       "  0%|          | 0/3000 [00:00<?, ?it/s]"
      ]
     },
     "metadata": {},
     "output_type": "display_data"
    }
   ],
   "source": [
    "test_df = pd.read_csv('test.csv')\n",
    "generate_image_txt(test_df, '../vinbigdata/images/test/', 'test.txt')"
   ]
  },
  {
   "cell_type": "code",
   "execution_count": 42,
   "id": "modified-cheese",
   "metadata": {},
   "outputs": [],
   "source": [
    "test_df = pd.read_csv('test.csv')\n",
    "categories = [\n",
    "    { 'id':0, 'name': 'Aortic enlargement'},\n",
    "    { 'id':1, 'name': 'Atelectasis'},\n",
    "    { 'id':2, 'name': 'Calcification'},\n",
    "    { 'id':3, 'name': 'Cardiomegaly'},\n",
    "    { 'id':4, 'name': 'Consolidation'},\n",
    "    { 'id':5, 'name': 'ILD'},\n",
    "    { 'id':6, 'name': 'Infiltration'},\n",
    "    { 'id':7, 'name': 'Lung Opacity'},\n",
    "    { 'id':8, 'name': 'Nodule/Mass'},\n",
    "    { 'id':9, 'name': 'Other lesion'},\n",
    "    { 'id':10, 'name': 'Pleural effusion'},\n",
    "    { 'id':11, 'name': 'Pleural thickening'},\n",
    "    { 'id':12, 'name': 'Pneumothorax'},\n",
    "    { 'id':13, 'name': 'Pulmonary fibrosis'},\n",
    "] \n",
    "images = []\n",
    "for i in range(len(test_df)):\n",
    "    r = test_df.iloc[i]\n",
    "    image_id = r['image_id']\n",
    "    images.append(dict(\n",
    "        id=i,\n",
    "        file_name=image_id + '.jpg',\n",
    "        height=r['height'],\n",
    "        width=r['width']))\n",
    "coco_format_json = dict(\n",
    "    images=images,\n",
    "    categories=categories)\n",
    "mmcv.dump(coco_format_json, 'test_coco_org.json')"
   ]
  },
  {
   "cell_type": "code",
   "execution_count": 1,
   "id": "animal-royalty",
   "metadata": {},
   "outputs": [],
   "source": [
    "%load_ext tensorboard"
   ]
  },
  {
   "cell_type": "code",
   "execution_count": 5,
   "id": "super-screw",
   "metadata": {},
   "outputs": [
    {
     "data": {
      "text/plain": [
       "Reusing TensorBoard on port 6008 (pid 700), started 0:00:12 ago. (Use '!kill 700' to kill it.)"
      ]
     },
     "metadata": {},
     "output_type": "display_data"
    },
    {
     "data": {
      "text/html": [
       "\n",
       "      <iframe id=\"tensorboard-frame-329b952d6f202b3c\" width=\"100%\" height=\"800\" frameborder=\"0\">\n",
       "      </iframe>\n",
       "      <script>\n",
       "        (function() {\n",
       "          const frame = document.getElementById(\"tensorboard-frame-329b952d6f202b3c\");\n",
       "          const url = new URL(\"/\", window.location);\n",
       "          const port = 6008;\n",
       "          if (port) {\n",
       "            url.port = port;\n",
       "          }\n",
       "          frame.src = url;\n",
       "        })();\n",
       "      </script>\n",
       "    "
      ],
      "text/plain": [
       "<IPython.core.display.HTML object>"
      ]
     },
     "metadata": {},
     "output_type": "display_data"
    }
   ],
   "source": [
    "%tensorboard --logdir checkpoints_1024_fold_0/tf_logs --port=6008"
   ]
  },
  {
   "cell_type": "code",
   "execution_count": null,
   "id": "authorized-smart",
   "metadata": {},
   "outputs": [],
   "source": []
  }
 ],
 "metadata": {
  "kernelspec": {
   "display_name": "robert3",
   "language": "python",
   "name": "robert3"
  },
  "language_info": {
   "codemirror_mode": {
    "name": "ipython",
    "version": 3
   },
   "file_extension": ".py",
   "mimetype": "text/x-python",
   "name": "python",
   "nbconvert_exporter": "python",
   "pygments_lexer": "ipython3",
   "version": "3.7.9"
  }
 },
 "nbformat": 4,
 "nbformat_minor": 5
}
