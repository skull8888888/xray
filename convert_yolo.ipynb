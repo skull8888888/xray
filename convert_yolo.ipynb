{
 "cells": [
  {
   "cell_type": "code",
   "execution_count": 1,
   "metadata": {},
   "outputs": [],
   "source": [
    "import os\n",
    "import numpy as np # linear algebra\n",
    "import pandas as pd # data processing, CSV file I/O (e.g. pd.read_csv)\n",
    "import cv2\n",
    "import torch\n",
    "import matplotlib.pyplot as plt\n",
    "import torchvision\n",
    "from torchvision.models.detection import FasterRCNN\n",
    "from torchvision.models.detection.faster_rcnn import FastRCNNPredictor\n",
    "from torchvision.models.detection.rpn import AnchorGenerator\n",
    "from torch.utils.data import DataLoader\n",
    "from albumentations.pytorch.transforms import ToTensorV2\n",
    "from tqdm.notebook import tqdm\n",
    "import albumentations as A\n",
    "\n",
    "# from ipywidgets import IntProgress\n",
    "import multiprocessing\n",
    "device = 'cuda' if torch.cuda.is_available() else 'cpu'\n",
    "device\n",
    "import seaborn as sns\n",
    "\n",
    "from torchvision.ops import batched_nms\n",
    "import mmcv\n",
    "\n",
    "from ensemble_boxes import *\n",
    "\n",
    "from matplotlib.pyplot import imshow\n",
    "from PIL import Image\n",
    "\n",
    "from torchvision.ops import box_iou"
   ]
  },
  {
   "cell_type": "code",
   "execution_count": 2,
   "metadata": {},
   "outputs": [],
   "source": [
    "def plot_image(img_path, boxes, labels):\n",
    "    \n",
    "    image = cv2.imread(img_path)\n",
    "    image = cv2.cvtColor(image, cv2.COLOR_BGR2RGB)\n",
    "    image = image / 255\n",
    "    image = image.astype('float32')\n",
    "    \n",
    "    categories = [\n",
    "        { 'id':0, 'name': 'Aortic enlargement'},\n",
    "        { 'id':1, 'name': 'Atelectasis'},\n",
    "        { 'id':2, 'name': 'Calcification'},\n",
    "        { 'id':3, 'name': 'Cardiomegaly'},\n",
    "        { 'id':4, 'name': 'Consolidation'},\n",
    "        { 'id':5, 'name': 'ILD'},\n",
    "        { 'id':6, 'name': 'Infiltration'},\n",
    "        { 'id':7, 'name': 'Lung Opacity'},\n",
    "        { 'id':8, 'name': 'Nodule/Mass'},\n",
    "        { 'id':9, 'name': 'Other lesion'},\n",
    "        { 'id':10, 'name': 'Pleural effusion'},\n",
    "        { 'id':11, 'name': 'Pleural thickening'},\n",
    "        { 'id':12, 'name': 'Pneumothorax'},\n",
    "        { 'id':13, 'name': 'Pulmonary fibrosis'},\n",
    "        { 'id':14, 'name': 'No finding'},\n",
    "    ] \n",
    "    \n",
    "    plt.figure(figsize=(10,10))\n",
    "    \n",
    "    for box,label in zip(boxes, labels):\n",
    "        cv2.rectangle(image, (box[0], box[1]), (box[2], box[3]), (225,0,0), 4)\n",
    "        label = categories[label]['name'].upper()\n",
    "#         print(label)\n",
    "        cv2.putText(image, \n",
    "                    label,\n",
    "                    (box[0], box[1]), \n",
    "                    fontFace = cv2.FONT_HERSHEY_COMPLEX, \n",
    "                    fontScale = 1,\n",
    "                    color = (255, 0, 0),\n",
    "                    thickness = 2,\n",
    "                    lineType = cv2.LINE_AA\n",
    "                   )\n",
    "    plt.imshow(image)"
   ]
  },
  {
   "cell_type": "code",
   "execution_count": 40,
   "metadata": {},
   "outputs": [],
   "source": [
    "df = pd.read_csv('10_fold_dedub_abnormal_org_size.csv')\n",
    "\n",
    "fold_id = 0\n",
    "meta = pd.read_csv('train_meta.csv').set_index('image_id')\n",
    "\n",
    "\n",
    "train_df = df[df.fold_id != fold_id].groupby('image_id').agg(lambda x: list(x)).reset_index()\n",
    "valid_df = df[df.fold_id == fold_id].groupby('image_id').agg(lambda x: list(x)).reset_index()\n",
    "full_df = df.groupby('image_id').agg(lambda x: list(x)).reset_index()\n",
    "# ax = sns.countplot(x=\"class_id\",data=df)"
   ]
  },
  {
   "cell_type": "code",
   "execution_count": 38,
   "metadata": {},
   "outputs": [],
   "source": [
    "def generate_label_txt(df, output_dir):\n",
    "\n",
    "    n = len(df)\n",
    "\n",
    "    images = []\n",
    "    \n",
    "    for idx in tqdm(range(n)):\n",
    "\n",
    "        records = df.loc[idx]\n",
    "        image_id = records['image_id']\n",
    "        \n",
    "        width = meta.loc[image_id]['dim1'] \n",
    "        height = meta.loc[image_id]['dim0']\n",
    "    \n",
    "        images.append(dict(\n",
    "            id=idx,\n",
    "            file_name=image_id + '.jpg',\n",
    "            height=height,\n",
    "            width=width))\n",
    " \n",
    "        boxes = records[['x_min','y_min', 'x_max', 'y_max']].to_numpy()\n",
    "        boxes = np.array(boxes.tolist()).T\n",
    "        boxes = boxes.astype(int)\n",
    "        labels = records['class_id']\n",
    "            \n",
    "        with open(output_dir + image_id + '.txt', 'w') as f:\n",
    "            \n",
    "            for i in range(len(boxes)):\n",
    "\n",
    "                label = labels[i]\n",
    "                bbox = boxes[i]\n",
    "                \n",
    "                c_x = (bbox[2] + bbox[0]) // 2\n",
    "                c_y = (bbox[3] + bbox[1]) // 2\n",
    "                w = (bbox[2] - bbox[0])\n",
    "                h = (bbox[3] - bbox[1])\n",
    "                \n",
    "                c_x = round(c_x / width, 4)\n",
    "                c_y = round(c_y / height, 4)\n",
    "                w = round(w / width, 4)\n",
    "                h = round(h / height, 4)\n",
    "\n",
    "                s = f'{label} {c_x} {c_y} {w} {h} \\n'\n",
    "                \n",
    "                f.write(s)\n"
   ]
  },
  {
   "cell_type": "code",
   "execution_count": 41,
   "metadata": {},
   "outputs": [
    {
     "data": {
      "application/vnd.jupyter.widget-view+json": {
       "model_id": "a1ab83ab6df741e1a06157439c757d82",
       "version_major": 2,
       "version_minor": 0
      },
      "text/plain": [
       "  0%|          | 0/4394 [00:00<?, ?it/s]"
      ]
     },
     "metadata": {},
     "output_type": "display_data"
    }
   ],
   "source": [
    "generate_label_txt(full_df, 'vinbigdata/labels/train/')"
   ]
  },
  {
   "cell_type": "code",
   "execution_count": 83,
   "metadata": {
    "tags": []
   },
   "outputs": [
    {
     "data": {
      "application/vnd.jupyter.widget-view+json": {
       "model_id": "1ef9052fa8fe43c5b038905a580bdf77",
       "version_major": 2,
       "version_minor": 0
      },
      "text/plain": [
       "  0%|          | 0/435 [00:00<?, ?it/s]"
      ]
     },
     "metadata": {},
     "output_type": "display_data"
    }
   ],
   "source": [
    "generate_data_json(valid_df, 'fold_0_abnormal_valid_org_size.json')"
   ]
  },
  {
   "cell_type": "code",
   "execution_count": 45,
   "metadata": {},
   "outputs": [],
   "source": [
    "def generate_image_txt(df, images_path, output_file):\n",
    "\n",
    "    n = len(df)\n",
    "\n",
    "    with open(output_file, 'w') as f:\n",
    "    \n",
    "        for idx in tqdm(range(n)):\n",
    "\n",
    "            records = df.loc[idx]\n",
    "            image_id = records['image_id']\n",
    "            \n",
    "            s = images_path + image_id + '.jpg\\n'  \n",
    "            \n",
    "            f.write(s)\n"
   ]
  },
  {
   "cell_type": "code",
   "execution_count": 48,
   "metadata": {},
   "outputs": [
    {
     "data": {
      "application/vnd.jupyter.widget-view+json": {
       "model_id": "fd72e0bb78064590a79d75a9a1ea4391",
       "version_major": 2,
       "version_minor": 0
      },
      "text/plain": [
       "  0%|          | 0/3959 [00:00<?, ?it/s]"
      ]
     },
     "metadata": {},
     "output_type": "display_data"
    }
   ],
   "source": [
    "generate_image_txt(train_df, '../vinbigdata/images/train/', 'train.txt')"
   ]
  },
  {
   "cell_type": "code",
   "execution_count": 51,
   "metadata": {},
   "outputs": [
    {
     "data": {
      "application/vnd.jupyter.widget-view+json": {
       "model_id": "bb6b7b4ca4264be78f76a6d68bf4c8ac",
       "version_major": 2,
       "version_minor": 0
      },
      "text/plain": [
       "  0%|          | 0/435 [00:00<?, ?it/s]"
      ]
     },
     "metadata": {},
     "output_type": "display_data"
    }
   ],
   "source": [
    "generate_image_txt(valid_df, '../vinbigdata/images/train/', 'yolov5/val.txt')"
   ]
  },
  {
   "cell_type": "code",
   "execution_count": 42,
   "metadata": {},
   "outputs": [],
   "source": [
    "test_df = pd.read_csv('test.csv')\n",
    "categories = [\n",
    "    { 'id':0, 'name': 'Aortic enlargement'},\n",
    "    { 'id':1, 'name': 'Atelectasis'},\n",
    "    { 'id':2, 'name': 'Calcification'},\n",
    "    { 'id':3, 'name': 'Cardiomegaly'},\n",
    "    { 'id':4, 'name': 'Consolidation'},\n",
    "    { 'id':5, 'name': 'ILD'},\n",
    "    { 'id':6, 'name': 'Infiltration'},\n",
    "    { 'id':7, 'name': 'Lung Opacity'},\n",
    "    { 'id':8, 'name': 'Nodule/Mass'},\n",
    "    { 'id':9, 'name': 'Other lesion'},\n",
    "    { 'id':10, 'name': 'Pleural effusion'},\n",
    "    { 'id':11, 'name': 'Pleural thickening'},\n",
    "    { 'id':12, 'name': 'Pneumothorax'},\n",
    "    { 'id':13, 'name': 'Pulmonary fibrosis'},\n",
    "] \n",
    "images = []\n",
    "for i in range(len(test_df)):\n",
    "    r = test_df.iloc[i]\n",
    "    image_id = r['image_id']\n",
    "    images.append(dict(\n",
    "        id=i,\n",
    "        file_name=image_id + '.jpg',\n",
    "        height=r['height'],\n",
    "        width=r['width']))\n",
    "coco_format_json = dict(\n",
    "    images=images,\n",
    "    categories=categories)\n",
    "mmcv.dump(coco_format_json, 'test_coco_org.json')"
   ]
  },
  {
   "cell_type": "code",
   "execution_count": 1,
   "metadata": {},
   "outputs": [],
   "source": [
    "%load_ext tensorboard"
   ]
  },
  {
   "cell_type": "code",
   "execution_count": 5,
   "metadata": {},
   "outputs": [
    {
     "data": {
      "text/plain": [
       "Reusing TensorBoard on port 6008 (pid 700), started 0:00:12 ago. (Use '!kill 700' to kill it.)"
      ]
     },
     "metadata": {},
     "output_type": "display_data"
    },
    {
     "data": {
      "text/html": [
       "\n",
       "      <iframe id=\"tensorboard-frame-329b952d6f202b3c\" width=\"100%\" height=\"800\" frameborder=\"0\">\n",
       "      </iframe>\n",
       "      <script>\n",
       "        (function() {\n",
       "          const frame = document.getElementById(\"tensorboard-frame-329b952d6f202b3c\");\n",
       "          const url = new URL(\"/\", window.location);\n",
       "          const port = 6008;\n",
       "          if (port) {\n",
       "            url.port = port;\n",
       "          }\n",
       "          frame.src = url;\n",
       "        })();\n",
       "      </script>\n",
       "    "
      ],
      "text/plain": [
       "<IPython.core.display.HTML object>"
      ]
     },
     "metadata": {},
     "output_type": "display_data"
    }
   ],
   "source": [
    "%tensorboard --logdir checkpoints_1024_fold_0/tf_logs --port=6008"
   ]
  },
  {
   "cell_type": "code",
   "execution_count": null,
   "metadata": {},
   "outputs": [],
   "source": []
  }
 ],
 "metadata": {
  "kernelspec": {
   "display_name": "robert3",
   "language": "python",
   "name": "robert3"
  },
  "language_info": {
   "codemirror_mode": {
    "name": "ipython",
    "version": 3
   },
   "file_extension": ".py",
   "mimetype": "text/x-python",
   "name": "python",
   "nbconvert_exporter": "python",
   "pygments_lexer": "ipython3",
   "version": "3.6.12"
  }
 },
 "nbformat": 4,
 "nbformat_minor": 5
}
