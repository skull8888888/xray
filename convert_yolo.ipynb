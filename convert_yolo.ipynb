{
 "cells": [
  {
   "cell_type": "code",
   "execution_count": 4,
   "id": "sacred-defense",
   "metadata": {},
   "outputs": [],
   "source": [
    "import os\n",
    "import numpy as np # linear algebra\n",
    "import pandas as pd # data processing, CSV file I/O (e.g. pd.read_csv)\n",
    "import cv2\n",
    "import torch\n",
    "import matplotlib.pyplot as plt\n",
    "import torchvision\n",
    "from torchvision.models.detection import FasterRCNN\n",
    "from torchvision.models.detection.faster_rcnn import FastRCNNPredictor\n",
    "from torchvision.models.detection.rpn import AnchorGenerator\n",
    "from torch.utils.data import DataLoader\n",
    "from albumentations.pytorch.transforms import ToTensorV2\n",
    "from tqdm.notebook import tqdm\n",
    "import albumentations as A\n",
    "\n",
    "# from ipywidgets import IntProgress\n",
    "import multiprocessing\n",
    "device = 'cuda' if torch.cuda.is_available() else 'cpu'\n",
    "device\n",
    "import seaborn as sns\n",
    "\n",
    "from torchvision.ops import batched_nms\n",
    "import mmcv\n",
    "\n",
    "from ensemble_boxes import *\n",
    "\n",
    "from matplotlib.pyplot import imshow\n",
    "from PIL import Image\n",
    "\n",
    "from torchvision.ops import box_iou"
   ]
  },
  {
   "cell_type": "code",
   "execution_count": 5,
   "id": "worse-spice",
   "metadata": {},
   "outputs": [],
   "source": [
    "def plot_image(img_path, boxes, labels):\n",
    "    \n",
    "    image = cv2.imread(img_path)\n",
    "    image = cv2.cvtColor(image, cv2.COLOR_BGR2RGB)\n",
    "    image = image / 255\n",
    "    image = image.astype('float32')\n",
    "    \n",
    "    categories = [\n",
    "        { 'id':0, 'name': 'Aortic enlargement'},\n",
    "        { 'id':1, 'name': 'Atelectasis'},\n",
    "        { 'id':2, 'name': 'Calcification'},\n",
    "        { 'id':3, 'name': 'Cardiomegaly'},\n",
    "        { 'id':4, 'name': 'Consolidation'},\n",
    "        { 'id':5, 'name': 'ILD'},\n",
    "        { 'id':6, 'name': 'Infiltration'},\n",
    "        { 'id':7, 'name': 'Lung Opacity'},\n",
    "        { 'id':8, 'name': 'Nodule/Mass'},\n",
    "        { 'id':9, 'name': 'Other lesion'},\n",
    "        { 'id':10, 'name': 'Pleural effusion'},\n",
    "        { 'id':11, 'name': 'Pleural thickening'},\n",
    "        { 'id':12, 'name': 'Pneumothorax'},\n",
    "        { 'id':13, 'name': 'Pulmonary fibrosis'},\n",
    "        { 'id':14, 'name': 'No finding'},\n",
    "    ] \n",
    "    \n",
    "    plt.figure(figsize=(10,10))\n",
    "    \n",
    "    for box,label in zip(boxes, labels):\n",
    "        cv2.rectangle(image, (box[0], box[1]), (box[2], box[3]), (225,0,0), 4)\n",
    "        label = categories[label]['name'].upper()\n",
    "#         print(label)\n",
    "        cv2.putText(image, \n",
    "                    label,\n",
    "                    (box[0], box[1]), \n",
    "                    fontFace = cv2.FONT_HERSHEY_COMPLEX, \n",
    "                    fontScale = 1,\n",
    "                    color = (255, 0, 0),\n",
    "                    thickness = 2,\n",
    "                    lineType = cv2.LINE_AA\n",
    "                   )\n",
    "    plt.imshow(image)"
   ]
  },
  {
   "cell_type": "code",
   "execution_count": 6,
   "id": "statistical-bride",
   "metadata": {},
   "outputs": [],
   "source": [
    "df = pd.read_csv('5_fold_dedub_abnormal_org_size.csv')\n",
    "\n",
    "fold_id = 4\n",
    "meta = pd.read_csv('train_meta.csv').set_index('image_id')\n",
    "\n",
    "\n",
    "train_df = df[df.fold_id != fold_id].groupby('image_id').agg(lambda x: list(x)).reset_index()\n",
    "valid_df = df[df.fold_id == fold_id].groupby('image_id').agg(lambda x: list(x)).reset_index()\n",
    "full_df = df.groupby('image_id').agg(lambda x: list(x)).reset_index()\n",
    "\n",
    "# ax = sns.countplot(x=\"class_id\",data=df)"
   ]
  },
  {
   "cell_type": "code",
   "execution_count": 7,
   "id": "handmade-capitol",
   "metadata": {},
   "outputs": [
    {
     "data": {
      "text/html": [
       "<div>\n",
       "<style scoped>\n",
       "    .dataframe tbody tr th:only-of-type {\n",
       "        vertical-align: middle;\n",
       "    }\n",
       "\n",
       "    .dataframe tbody tr th {\n",
       "        vertical-align: top;\n",
       "    }\n",
       "\n",
       "    .dataframe thead th {\n",
       "        text-align: right;\n",
       "    }\n",
       "</style>\n",
       "<table border=\"1\" class=\"dataframe\">\n",
       "  <thead>\n",
       "    <tr style=\"text-align: right;\">\n",
       "      <th></th>\n",
       "      <th>image_id</th>\n",
       "      <th>class_id</th>\n",
       "      <th>x_min</th>\n",
       "      <th>y_min</th>\n",
       "      <th>x_max</th>\n",
       "      <th>y_max</th>\n",
       "    </tr>\n",
       "  </thead>\n",
       "  <tbody>\n",
       "    <tr>\n",
       "      <th>0</th>\n",
       "      <td>000434271f63a053c4128a0ba6352c7f</td>\n",
       "      <td>14</td>\n",
       "      <td>0.0</td>\n",
       "      <td>0.0</td>\n",
       "      <td>0.0</td>\n",
       "      <td>0.0</td>\n",
       "    </tr>\n",
       "    <tr>\n",
       "      <th>1</th>\n",
       "      <td>00053190460d56c53cc3e57321387478</td>\n",
       "      <td>14</td>\n",
       "      <td>0.0</td>\n",
       "      <td>0.0</td>\n",
       "      <td>0.0</td>\n",
       "      <td>0.0</td>\n",
       "    </tr>\n",
       "    <tr>\n",
       "      <th>2</th>\n",
       "      <td>0006e0a85696f6bb578e84fafa9a5607</td>\n",
       "      <td>14</td>\n",
       "      <td>0.0</td>\n",
       "      <td>0.0</td>\n",
       "      <td>0.0</td>\n",
       "      <td>0.0</td>\n",
       "    </tr>\n",
       "    <tr>\n",
       "      <th>3</th>\n",
       "      <td>000ae00eb3942d27e0b97903dd563a6e</td>\n",
       "      <td>14</td>\n",
       "      <td>0.0</td>\n",
       "      <td>0.0</td>\n",
       "      <td>0.0</td>\n",
       "      <td>0.0</td>\n",
       "    </tr>\n",
       "    <tr>\n",
       "      <th>4</th>\n",
       "      <td>00176f7e1b1cb835123f95960b9a9efd</td>\n",
       "      <td>14</td>\n",
       "      <td>0.0</td>\n",
       "      <td>0.0</td>\n",
       "      <td>0.0</td>\n",
       "      <td>0.0</td>\n",
       "    </tr>\n",
       "    <tr>\n",
       "      <th>...</th>\n",
       "      <td>...</td>\n",
       "      <td>...</td>\n",
       "      <td>...</td>\n",
       "      <td>...</td>\n",
       "      <td>...</td>\n",
       "      <td>...</td>\n",
       "    </tr>\n",
       "    <tr>\n",
       "      <th>10601</th>\n",
       "      <td>ffe0131765a4c58a0f59abb68b192dbd</td>\n",
       "      <td>14</td>\n",
       "      <td>0.0</td>\n",
       "      <td>0.0</td>\n",
       "      <td>0.0</td>\n",
       "      <td>0.0</td>\n",
       "    </tr>\n",
       "    <tr>\n",
       "      <th>10602</th>\n",
       "      <td>ffe07f4f98a7242b460c8d3a8e46832c</td>\n",
       "      <td>14</td>\n",
       "      <td>0.0</td>\n",
       "      <td>0.0</td>\n",
       "      <td>0.0</td>\n",
       "      <td>0.0</td>\n",
       "    </tr>\n",
       "    <tr>\n",
       "      <th>10603</th>\n",
       "      <td>ffea246f04196af602c7dc123e5e48fc</td>\n",
       "      <td>14</td>\n",
       "      <td>0.0</td>\n",
       "      <td>0.0</td>\n",
       "      <td>0.0</td>\n",
       "      <td>0.0</td>\n",
       "    </tr>\n",
       "    <tr>\n",
       "      <th>10604</th>\n",
       "      <td>fff0f82159f9083f3dd1f8967fc54f6a</td>\n",
       "      <td>14</td>\n",
       "      <td>0.0</td>\n",
       "      <td>0.0</td>\n",
       "      <td>0.0</td>\n",
       "      <td>0.0</td>\n",
       "    </tr>\n",
       "    <tr>\n",
       "      <th>10605</th>\n",
       "      <td>fff2025e3c1d6970a8a6ee0404ac6940</td>\n",
       "      <td>14</td>\n",
       "      <td>0.0</td>\n",
       "      <td>0.0</td>\n",
       "      <td>0.0</td>\n",
       "      <td>0.0</td>\n",
       "    </tr>\n",
       "  </tbody>\n",
       "</table>\n",
       "<p>10606 rows × 6 columns</p>\n",
       "</div>"
      ],
      "text/plain": [
       "                               image_id  class_id  x_min  y_min  x_max  y_max\n",
       "0      000434271f63a053c4128a0ba6352c7f        14    0.0    0.0    0.0    0.0\n",
       "1      00053190460d56c53cc3e57321387478        14    0.0    0.0    0.0    0.0\n",
       "2      0006e0a85696f6bb578e84fafa9a5607        14    0.0    0.0    0.0    0.0\n",
       "3      000ae00eb3942d27e0b97903dd563a6e        14    0.0    0.0    0.0    0.0\n",
       "4      00176f7e1b1cb835123f95960b9a9efd        14    0.0    0.0    0.0    0.0\n",
       "...                                 ...       ...    ...    ...    ...    ...\n",
       "10601  ffe0131765a4c58a0f59abb68b192dbd        14    0.0    0.0    0.0    0.0\n",
       "10602  ffe07f4f98a7242b460c8d3a8e46832c        14    0.0    0.0    0.0    0.0\n",
       "10603  ffea246f04196af602c7dc123e5e48fc        14    0.0    0.0    0.0    0.0\n",
       "10604  fff0f82159f9083f3dd1f8967fc54f6a        14    0.0    0.0    0.0    0.0\n",
       "10605  fff2025e3c1d6970a8a6ee0404ac6940        14    0.0    0.0    0.0    0.0\n",
       "\n",
       "[10606 rows x 6 columns]"
      ]
     },
     "execution_count": 7,
     "metadata": {},
     "output_type": "execute_result"
    }
   ],
   "source": [
    "normal = pd.read_csv('train.csv')\n",
    "normal = normal[normal.class_id == 14].groupby('image_id').mean().reset_index()\n",
    "\n",
    "normal"
   ]
  },
  {
   "cell_type": "code",
   "execution_count": 33,
   "id": "first-convention",
   "metadata": {},
   "outputs": [],
   "source": [
    "def generate_label_txt(df, output_dir):\n",
    "\n",
    "    n = len(df)\n",
    "\n",
    "    images = []\n",
    "    \n",
    "    normal_n = len(normal)\n",
    "    \n",
    "#     for idx in tqdm(range(n)):\n",
    "\n",
    "#         records = df.loc[idx]\n",
    "#         image_id = records['image_id']\n",
    "        \n",
    "#         width = meta.loc[image_id]['dim1'] \n",
    "#         height = meta.loc[image_id]['dim0']\n",
    "    \n",
    "#         images.append(dict(\n",
    "#             id=idx,\n",
    "#             file_name=image_id + '.jpg',\n",
    "#             height=height,\n",
    "#             width=width))\n",
    " \n",
    "#         boxes = records[['x_min','y_min', 'x_max', 'y_max']].to_numpy()\n",
    "#         boxes = np.array(boxes.tolist()).T\n",
    "#         boxes = boxes.astype(int)\n",
    "#         labels = records['class_id']\n",
    "            \n",
    "#         with open(output_dir + image_id + '.txt', 'w') as f:\n",
    "            \n",
    "#             for i in range(len(boxes)):\n",
    "\n",
    "#                 label = labels[i]\n",
    "#                 bbox = boxes[i]\n",
    "                \n",
    "#                 c_x = (bbox[2] + bbox[0]) // 2\n",
    "#                 c_y = (bbox[3] + bbox[1]) // 2\n",
    "#                 w = (bbox[2] - bbox[0])\n",
    "#                 h = (bbox[3] - bbox[1])\n",
    "                \n",
    "#                 c_x = round(c_x / width, 4)\n",
    "#                 c_y = round(c_y / height, 4)\n",
    "#                 w = round(w / width, 4)\n",
    "#                 h = round(h / height, 4)\n",
    "\n",
    "#                 s = f'{label} {c_x} {c_y} {w} {h} \\n'\n",
    "                \n",
    "#                 f.write(s)\n",
    "    \n",
    "    for i in range(normal_n):\n",
    "        image_id = normal.iloc[i]['image_id']\n",
    "        open(output_dir + image_id + '.txt', 'a').close()\n",
    "    "
   ]
  },
  {
   "cell_type": "code",
   "execution_count": 34,
   "id": "revolutionary-differential",
   "metadata": {},
   "outputs": [],
   "source": [
    "generate_label_txt(full_df, 'vinbigdata/labels/train/')"
   ]
  },
  {
   "cell_type": "code",
   "execution_count": 8,
   "id": "democratic-emerald",
   "metadata": {},
   "outputs": [],
   "source": [
    "def generate_image_txt(df, images_path, output_file, add_empty=False):\n",
    "\n",
    "    n = len(df)\n",
    "    \n",
    "    healthy = normal.sample(frac=.1)\n",
    "    normal_n = len(healthy)\n",
    "    \n",
    "    with open(output_file, 'w') as f:\n",
    "    \n",
    "        for idx in tqdm(range(n)):\n",
    "\n",
    "            records = df.loc[idx]\n",
    "            image_id = records['image_id']\n",
    "            \n",
    "            s = images_path + image_id + '.jpg\\n'  \n",
    "            \n",
    "            f.write(s)\n",
    "            \n",
    "        if add_empty:\n",
    "\n",
    "            for i in range(normal_n):\n",
    "\n",
    "                healthy_image_id = healthy.iloc[i]['image_id']\n",
    "\n",
    "                s = images_path + healthy_image_id + '.jpg\\n'  \n",
    "\n",
    "                f.write(s)\n"
   ]
  },
  {
   "cell_type": "code",
   "execution_count": 9,
   "id": "reasonable-poland",
   "metadata": {},
   "outputs": [
    {
     "data": {
      "application/vnd.jupyter.widget-view+json": {
       "model_id": "2e22ec670f31470caaeb614f9b4b941e",
       "version_major": 2,
       "version_minor": 0
      },
      "text/plain": [
       "  0%|          | 0/3503 [00:00<?, ?it/s]"
      ]
     },
     "metadata": {},
     "output_type": "display_data"
    },
    {
     "data": {
      "application/vnd.jupyter.widget-view+json": {
       "model_id": "5d961591aaa446b6979debc3ced67525",
       "version_major": 2,
       "version_minor": 0
      },
      "text/plain": [
       "  0%|          | 0/891 [00:00<?, ?it/s]"
      ]
     },
     "metadata": {},
     "output_type": "display_data"
    },
    {
     "data": {
      "application/vnd.jupyter.widget-view+json": {
       "model_id": "cc76ebb38ca64f8f9a52b9a9f2ca094e",
       "version_major": 2,
       "version_minor": 0
      },
      "text/plain": [
       "  0%|          | 0/3522 [00:00<?, ?it/s]"
      ]
     },
     "metadata": {},
     "output_type": "display_data"
    },
    {
     "data": {
      "application/vnd.jupyter.widget-view+json": {
       "model_id": "3c92700313eb47a28aeb1c969bc721e6",
       "version_major": 2,
       "version_minor": 0
      },
      "text/plain": [
       "  0%|          | 0/872 [00:00<?, ?it/s]"
      ]
     },
     "metadata": {},
     "output_type": "display_data"
    },
    {
     "data": {
      "application/vnd.jupyter.widget-view+json": {
       "model_id": "f32d197a1f124892bd1ede9270ddfea4",
       "version_major": 2,
       "version_minor": 0
      },
      "text/plain": [
       "  0%|          | 0/3517 [00:00<?, ?it/s]"
      ]
     },
     "metadata": {},
     "output_type": "display_data"
    },
    {
     "data": {
      "application/vnd.jupyter.widget-view+json": {
       "model_id": "f8733d7d8e0f4d829ef2cd3cd1436d4f",
       "version_major": 2,
       "version_minor": 0
      },
      "text/plain": [
       "  0%|          | 0/877 [00:00<?, ?it/s]"
      ]
     },
     "metadata": {},
     "output_type": "display_data"
    },
    {
     "data": {
      "application/vnd.jupyter.widget-view+json": {
       "model_id": "019000090ea74fdba6e3ff84322a9d2a",
       "version_major": 2,
       "version_minor": 0
      },
      "text/plain": [
       "  0%|          | 0/3535 [00:00<?, ?it/s]"
      ]
     },
     "metadata": {},
     "output_type": "display_data"
    },
    {
     "data": {
      "application/vnd.jupyter.widget-view+json": {
       "model_id": "41bcb222f622447eaab14e505ec6d89a",
       "version_major": 2,
       "version_minor": 0
      },
      "text/plain": [
       "  0%|          | 0/859 [00:00<?, ?it/s]"
      ]
     },
     "metadata": {},
     "output_type": "display_data"
    },
    {
     "data": {
      "application/vnd.jupyter.widget-view+json": {
       "model_id": "583ae6ed822c4bb2bf83e7a8e54e12bc",
       "version_major": 2,
       "version_minor": 0
      },
      "text/plain": [
       "  0%|          | 0/3499 [00:00<?, ?it/s]"
      ]
     },
     "metadata": {},
     "output_type": "display_data"
    },
    {
     "data": {
      "application/vnd.jupyter.widget-view+json": {
       "model_id": "714516df1e5b458d8a9cc3a94b967136",
       "version_major": 2,
       "version_minor": 0
      },
      "text/plain": [
       "  0%|          | 0/895 [00:00<?, ?it/s]"
      ]
     },
     "metadata": {},
     "output_type": "display_data"
    }
   ],
   "source": [
    "for fold_id in range(5):\n",
    "    \n",
    "    train_df = df[df.fold_id != fold_id].groupby('image_id').agg(lambda x: list(x)).reset_index()\n",
    "    valid_df = df[df.fold_id == fold_id].groupby('image_id').agg(lambda x: list(x)).reset_index()\n",
    "\n",
    "    generate_image_txt(train_df, '../vinbigdata/images/train/', f'yolov5/folds/fold_{fold_id}_train.txt')\n",
    "    generate_image_txt(valid_df, '../vinbigdata/images/train/', f'yolov5/folds/fold_{fold_id}_val.txt')"
   ]
  },
  {
   "cell_type": "code",
   "execution_count": 11,
   "id": "spectacular-sister",
   "metadata": {},
   "outputs": [
    {
     "data": {
      "application/vnd.jupyter.widget-view+json": {
       "model_id": "de89fc3965914e27b3a66ccf89c8bbd3",
       "version_major": 2,
       "version_minor": 0
      },
      "text/plain": [
       "  0%|          | 0/3000 [00:00<?, ?it/s]"
      ]
     },
     "metadata": {},
     "output_type": "display_data"
    }
   ],
   "source": [
    "test_df = pd.read_csv('test.csv')\n",
    "generate_image_txt(test_df, '../vinbigdata/images/test/', 'test.txt')"
   ]
  },
  {
   "cell_type": "code",
   "execution_count": 42,
   "id": "monthly-costs",
   "metadata": {},
   "outputs": [],
   "source": [
    "test_df = pd.read_csv('test.csv')\n",
    "categories = [\n",
    "    { 'id':0, 'name': 'Aortic enlargement'},\n",
    "    { 'id':1, 'name': 'Atelectasis'},\n",
    "    { 'id':2, 'name': 'Calcification'},\n",
    "    { 'id':3, 'name': 'Cardiomegaly'},\n",
    "    { 'id':4, 'name': 'Consolidation'},\n",
    "    { 'id':5, 'name': 'ILD'},\n",
    "    { 'id':6, 'name': 'Infiltration'},\n",
    "    { 'id':7, 'name': 'Lung Opacity'},\n",
    "    { 'id':8, 'name': 'Nodule/Mass'},\n",
    "    { 'id':9, 'name': 'Other lesion'},\n",
    "    { 'id':10, 'name': 'Pleural effusion'},\n",
    "    { 'id':11, 'name': 'Pleural thickening'},\n",
    "    { 'id':12, 'name': 'Pneumothorax'},\n",
    "    { 'id':13, 'name': 'Pulmonary fibrosis'},\n",
    "] \n",
    "images = []\n",
    "for i in range(len(test_df)):\n",
    "    r = test_df.iloc[i]\n",
    "    image_id = r['image_id']\n",
    "    images.append(dict(\n",
    "        id=i,\n",
    "        file_name=image_id + '.jpg',\n",
    "        height=r['height'],\n",
    "        width=r['width']))\n",
    "coco_format_json = dict(\n",
    "    images=images,\n",
    "    categories=categories)\n",
    "mmcv.dump(coco_format_json, 'test_coco_org.json')"
   ]
  },
  {
   "cell_type": "code",
   "execution_count": 1,
   "id": "dried-broadcast",
   "metadata": {},
   "outputs": [],
   "source": [
    "%load_ext tensorboard"
   ]
  },
  {
   "cell_type": "code",
   "execution_count": 5,
   "id": "affected-garden",
   "metadata": {},
   "outputs": [
    {
     "data": {
      "text/plain": [
       "Reusing TensorBoard on port 6008 (pid 700), started 0:00:12 ago. (Use '!kill 700' to kill it.)"
      ]
     },
     "metadata": {},
     "output_type": "display_data"
    },
    {
     "data": {
      "text/html": [
       "\n",
       "      <iframe id=\"tensorboard-frame-329b952d6f202b3c\" width=\"100%\" height=\"800\" frameborder=\"0\">\n",
       "      </iframe>\n",
       "      <script>\n",
       "        (function() {\n",
       "          const frame = document.getElementById(\"tensorboard-frame-329b952d6f202b3c\");\n",
       "          const url = new URL(\"/\", window.location);\n",
       "          const port = 6008;\n",
       "          if (port) {\n",
       "            url.port = port;\n",
       "          }\n",
       "          frame.src = url;\n",
       "        })();\n",
       "      </script>\n",
       "    "
      ],
      "text/plain": [
       "<IPython.core.display.HTML object>"
      ]
     },
     "metadata": {},
     "output_type": "display_data"
    }
   ],
   "source": [
    "%tensorboard --logdir checkpoints_1024_fold_0/tf_logs --port=6008"
   ]
  },
  {
   "cell_type": "code",
   "execution_count": null,
   "id": "pregnant-bangladesh",
   "metadata": {},
   "outputs": [],
   "source": []
  }
 ],
 "metadata": {
  "kernelspec": {
   "display_name": "robert3",
   "language": "python",
   "name": "robert3"
  },
  "language_info": {
   "codemirror_mode": {
    "name": "ipython",
    "version": 3
   },
   "file_extension": ".py",
   "mimetype": "text/x-python",
   "name": "python",
   "nbconvert_exporter": "python",
   "pygments_lexer": "ipython3",
   "version": "3.7.9"
  }
 },
 "nbformat": 4,
 "nbformat_minor": 5
}
